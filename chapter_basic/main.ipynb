{
 "cells": [
  {
   "cell_type": "markdown",
   "metadata": {},
   "source": [
    "####\n",
    " 1. 理论基石：条件概率、独立性与贝叶斯"
   ]
  }
 ],
 "metadata": {
  "language_info": {
   "name": "python"
  }
 },
 "nbformat": 4,
 "nbformat_minor": 2
}
